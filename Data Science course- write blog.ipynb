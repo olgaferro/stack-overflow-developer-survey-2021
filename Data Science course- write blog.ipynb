{
 "cells": [
  {
   "cell_type": "markdown",
   "metadata": {},
   "source": [
    "### Data Science course. Write a Data Science blog\n",
    "\n",
    "PROJECT \n",
    "\n",
    "Who has more earning?\n",
    "- Depends of the country\n",
    " Depends of the gender\n",
    " Depends of the age\n",
    "What is the country has more masters degree?\n",
    "Experience by country\n",
    "\n",
    "\n"
   ]
  },
  {
   "cell_type": "code",
   "execution_count": null,
   "metadata": {},
   "outputs": [],
   "source": [
    "###First step clone the repository\n",
    "\n",
    "#!git clone https://github.com/olgaferro/stack-overflow-developer-survey-2021.git\n"
   ]
  },
  {
   "cell_type": "code",
   "execution_count": 21,
   "metadata": {
    "tags": []
   },
   "outputs": [],
   "source": [
    "import numpy as np\n",
    "import pandas as pd\n",
    "import matplotlib.pyplot as plt\n",
    "\n",
    "import warnings\n",
    "warnings.filterwarnings('ignore')\n",
    "\n",
    "from matplotlib.colors import ListedColormap\n",
    "from sklearn.linear_model import LinearRegression\n",
    "from sklearn.model_selection import train_test_split\n",
    "from sklearn.metrics import r2_score, mean_squared_error\n",
    "from IPython.display import HTML\n",
    "\n",
    "\n",
    "import seaborn as sns\n",
    "%matplotlib inline\n",
    "\n",
    "df = pd.read_csv('./survey_results_public.csv')\n",
    "\n",
    "schema=pd.read_csv('./survey_results_schema.csv')\n",
    "\n",
    "\n",
    "df.head()\n",
    "#df.hist()\n",
    "\n",
    "\n"
   ]
  },
  {
   "cell_type": "markdown",
   "metadata": {},
   "source": [
    "### 1. Data undersdanting\n",
    "\n",
    "\n",
    "The following analysis is about a 2021 Stackoverflow survey. The survey contains questions about income, employment, education level, age coding, gender, ethnicity, country, etc.\n",
    "With this information we are try to answer the next questions.\n",
    "\n",
    "\n"
   ]
  },
  {
   "cell_type": "markdown",
   "metadata": {},
   "source": [
    "### 2. Data PREPARING\n",
    "\n",
    "\n",
    "Firstly we are going to prepare the data with the information we need.\n",
    "\n",
    "\n",
    "#Data understanding\n",
    "#Data Preparation\n",
    "#Modeling\n",
    "#Evaluation\n",
    "#Deployment"
   ]
  },
  {
   "cell_type": "code",
   "execution_count": 9,
   "metadata": {
    "tags": []
   },
   "outputs": [
    {
     "name": "stdout",
     "output_type": "stream",
     "text": [
      "The inicial dataframe has rows:83439  and columns: 10\n"
     ]
    }
   ],
   "source": [
    "# 2.1 We are going take a look in the inicial dataframe\n",
    "\n",
    "num_rows =df.shape[0] #Provide the number of rows in the dataset\n",
    "num_cols = df.shape[1] #Provide the number of columns in the dataset\n",
    "\n",
    "\n",
    "print('The inicial dataframe  has rows:%d  and columns: %d'  % (num_rows, num_cols))\n",
    "\n"
   ]
  },
  {
   "cell_type": "code",
   "execution_count": 8,
   "metadata": {
    "tags": []
   },
   "outputs": [],
   "source": [
    "# 2.1. We are going the select the columns importants for our research\n",
    "\n",
    "selected_columns = ['ResponseId','MainBranch','Employment','Country','EdLevel','Gender','Age','CompTotal','OpSys','DevType']\n",
    "\n",
    "df_selected_cols = df[selected_columns].copy()"
   ]
  },
  {
   "cell_type": "code",
   "execution_count": 22,
   "metadata": {},
   "outputs": [
    {
     "name": "stdout",
     "output_type": "stream",
     "text": [
      "We are check if is 0== 0\n",
      "The df developers who works full time has rows:46884  and columns: 10\n"
     ]
    },
    {
     "data": {
      "text/html": [
       "<div>\n",
       "<style scoped>\n",
       "    .dataframe tbody tr th:only-of-type {\n",
       "        vertical-align: middle;\n",
       "    }\n",
       "\n",
       "    .dataframe tbody tr th {\n",
       "        vertical-align: top;\n",
       "    }\n",
       "\n",
       "    .dataframe thead th {\n",
       "        text-align: right;\n",
       "    }\n",
       "</style>\n",
       "<table border=\"1\" class=\"dataframe\">\n",
       "  <thead>\n",
       "    <tr style=\"text-align: right;\">\n",
       "      <th></th>\n",
       "      <th>ResponseId</th>\n",
       "      <th>Country</th>\n",
       "      <th>EdLevel</th>\n",
       "      <th>Gender</th>\n",
       "      <th>Age</th>\n",
       "      <th>CompTotal</th>\n",
       "      <th>OpSys</th>\n",
       "      <th>DevType</th>\n",
       "    </tr>\n",
       "  </thead>\n",
       "  <tbody>\n",
       "    <tr>\n",
       "      <th>3</th>\n",
       "      <td>4</td>\n",
       "      <td>Austria</td>\n",
       "      <td>Master’s degree (M.A., M.S., M.Eng., MBA, etc.)</td>\n",
       "      <td>Man</td>\n",
       "      <td>35-44 years old</td>\n",
       "      <td>NaN</td>\n",
       "      <td>Windows</td>\n",
       "      <td>Developer, front-end</td>\n",
       "    </tr>\n",
       "    <tr>\n",
       "      <th>9</th>\n",
       "      <td>10</td>\n",
       "      <td>Sweden</td>\n",
       "      <td>Master’s degree (M.A., M.S., M.Eng., MBA, etc.)</td>\n",
       "      <td>Man</td>\n",
       "      <td>25-34 years old</td>\n",
       "      <td>42000.0</td>\n",
       "      <td>Linux-based</td>\n",
       "      <td>Data scientist or machine learning specialist</td>\n",
       "    </tr>\n",
       "    <tr>\n",
       "      <th>10</th>\n",
       "      <td>11</td>\n",
       "      <td>United Kingdom of Great Britain and Northern I...</td>\n",
       "      <td>Bachelor’s degree (B.A., B.S., B.Eng., etc.)</td>\n",
       "      <td>Man</td>\n",
       "      <td>25-34 years old</td>\n",
       "      <td>NaN</td>\n",
       "      <td>Windows</td>\n",
       "      <td>Developer, back-end</td>\n",
       "    </tr>\n",
       "    <tr>\n",
       "      <th>11</th>\n",
       "      <td>12</td>\n",
       "      <td>Spain</td>\n",
       "      <td>Bachelor’s degree (B.A., B.S., B.Eng., etc.)</td>\n",
       "      <td>Man</td>\n",
       "      <td>25-34 years old</td>\n",
       "      <td>43000.0</td>\n",
       "      <td>Linux-based</td>\n",
       "      <td>Developer, back-end</td>\n",
       "    </tr>\n",
       "    <tr>\n",
       "      <th>12</th>\n",
       "      <td>13</td>\n",
       "      <td>Germany</td>\n",
       "      <td>Master’s degree (M.A., M.S., M.Eng., MBA, etc.)</td>\n",
       "      <td>Man</td>\n",
       "      <td>25-34 years old</td>\n",
       "      <td>71500.0</td>\n",
       "      <td>Linux-based</td>\n",
       "      <td>Developer, desktop or enterprise applications;...</td>\n",
       "    </tr>\n",
       "  </tbody>\n",
       "</table>\n",
       "</div>"
      ],
      "text/plain": [
       "    ResponseId                                            Country  \\\n",
       "3            4                                            Austria   \n",
       "9           10                                             Sweden   \n",
       "10          11  United Kingdom of Great Britain and Northern I...   \n",
       "11          12                                              Spain   \n",
       "12          13                                            Germany   \n",
       "\n",
       "                                            EdLevel Gender              Age  \\\n",
       "3   Master’s degree (M.A., M.S., M.Eng., MBA, etc.)    Man  35-44 years old   \n",
       "9   Master’s degree (M.A., M.S., M.Eng., MBA, etc.)    Man  25-34 years old   \n",
       "10     Bachelor’s degree (B.A., B.S., B.Eng., etc.)    Man  25-34 years old   \n",
       "11     Bachelor’s degree (B.A., B.S., B.Eng., etc.)    Man  25-34 years old   \n",
       "12  Master’s degree (M.A., M.S., M.Eng., MBA, etc.)    Man  25-34 years old   \n",
       "\n",
       "    CompTotal        OpSys                                            DevType  \n",
       "3         NaN      Windows                               Developer, front-end  \n",
       "9     42000.0  Linux-based      Data scientist or machine learning specialist  \n",
       "10        NaN      Windows                                Developer, back-end  \n",
       "11    43000.0  Linux-based                                Developer, back-end  \n",
       "12    71500.0  Linux-based  Developer, desktop or enterprise applications;...  "
      ]
     },
     "execution_count": 22,
     "metadata": {},
     "output_type": "execute_result"
    }
   ],
   "source": [
    "# 2.2 We are going to focus in Respondents who are - Developers- and - work full-time-\n",
    "\n",
    "# We select Developers\n",
    "df_dev = df_selected_cols[df_selected_cols.MainBranch=='I am a developer by profession']\n",
    "\n",
    "# We select Employed full time\n",
    "df_dev_full_time = df_dev[df_selected_cols.Employment=='Employed full-time']\n",
    "\n",
    "\n",
    "# We are going to drop the rows withs missing values in CompTotal\n",
    "\n",
    "df_dev_full_time_drops_rows = df_dev_full_time.dropna(subset=['CompTotal'])\n",
    "\n",
    "df_dev_full_time_drops_rows\n",
    "\n",
    "null=df_dev_full_time_drops_rows.CompTotal.isnull().sum()\n",
    "print('We are check if is 0==',null)\n",
    "\n",
    "\n",
    "\n",
    "\n",
    "# We are going to drop columns MainBranch and Employment because now don´t give us any information, because the respondends are all Developers and full time\n",
    "\n",
    "df_dev_full_time_no_nulls=df_dev_full_time.drop(['MainBranch','Employment'], axis=1)\n",
    "\n",
    "\n",
    "\n",
    "print('The df developers who works full time has rows:%d  and columns: %d'  % (df_dev_full_time.shape[0], df_dev_full_time.shape[1]))\n",
    "\n",
    "\n",
    "df_dev_full_time_no_nulls.head(5)\n",
    "\n",
    "\n",
    "\n"
   ]
  },
  {
   "cell_type": "code",
   "execution_count": null,
   "metadata": {},
   "outputs": [],
   "source": [
    "df.Country.nunique()\n",
    "top_countries = df.Country.value_counts().head(15)\n",
    "\n",
    "top_countries\n",
    "\n",
    "#suma_respondends_by_country=top_countries.sum()\n",
    "\n",
    "#print(suma_respondends_by_country)"
   ]
  },
  {
   "cell_type": "code",
   "execution_count": 5,
   "metadata": {
    "tags": []
   },
   "outputs": [
    {
     "ename": "NameError",
     "evalue": "name 'df_dev_full_time_no_nulls' is not defined",
     "output_type": "error",
     "traceback": [
      "\u001b[0;31m---------------------------------------------------------------------------\u001b[0m",
      "\u001b[0;31mNameError\u001b[0m                                 Traceback (most recent call last)",
      "Cell \u001b[0;32mIn[5], line 1\u001b[0m\n\u001b[0;32m----> 1\u001b[0m top_countries_after_prepare\u001b[38;5;241m=\u001b[39m\u001b[43mdf_dev_full_time_no_nulls\u001b[49m\u001b[38;5;241m.\u001b[39mCountry\u001b[38;5;241m.\u001b[39mvalue_counts()\u001b[38;5;241m.\u001b[39mhead(\u001b[38;5;241m15\u001b[39m)\n\u001b[1;32m      2\u001b[0m top_countries_after_prepare\n\u001b[1;32m      4\u001b[0m suma_respondends_by_country\u001b[38;5;241m=\u001b[39mtop_countries_after_prepare\u001b[38;5;241m.\u001b[39msum()\n",
      "\u001b[0;31mNameError\u001b[0m: name 'df_dev_full_time_no_nulls' is not defined"
     ]
    }
   ],
   "source": [
    "top_countries_after_prepare=df_dev_full_time_no_nulls.Country.value_counts().head(15)\n",
    "top_countries_after_prepare\n",
    "\n",
    "suma_respondends_by_country=top_countries_after_prepare.sum()\n",
    "\n",
    "print(suma_respondends_by_country)\n",
    "\n",
    "\n",
    "\n",
    "#format_dict = {'data science':'${0:,.2f}', 'Mes':'{:%m-%Y}', 'machine learning':'{:.2%}'}\n",
    "format_dict = { 'CompTotal':'{:.2%}'}\n",
    "\n",
    "\n",
    "\n",
    "#Aplicamos el estilo en la visualización\n",
    "\n",
    "\n",
    "\n",
    "#df_dev_full_time_no_nulls.head(10).style.format(format_dict).background_gradient(subset=['Country', 'ComptTotal'], cmap='BuGn').highlight_max(color='yellow')\n",
    "#df_dev_full_time_no_nulls.head(10).style.background_gradient(subset=['Country', 'CompTotal'])\n",
    "\n",
    "#df_dev_full_time_no_nulls.head(10).style.format(format_dict).highlight_max(color='darkgreen').highlight_min(color='#ff0000')\n",
    "\n",
    "\n",
    "#df_dev_full_time_no_nulls.head().style.format(format_dict).background_gradient(subset=['Country', 'ComptTotal'])\n",
    "\n",
    "\n",
    "df_dev_full_time_no_nulls.head(10).style.background_gradient(cmap = 'Blues')\n",
    "#df_dev_full_time_no_nulls.head().style.format(format_dict).bar(color='red', subset=['Country', 'ComptTotal'])\n",
    "#df_dev_full_time_no_nulls.head(10).style.format(format_dict).background_gradient(subset=['Country', 'Employment'], cmap='BuGn').highlight_max(color='yellow')"
   ]
  },
  {
   "cell_type": "code",
   "execution_count": null,
   "metadata": {},
   "outputs": [
    {
     "ename": "NameError",
     "evalue": "name 'df_dev_full_time_no_nulls' is not defined",
     "output_type": "error",
     "traceback": [
      "\u001b[0;31m---------------------------------------------------------------------------\u001b[0m",
      "\u001b[0;31mNameError\u001b[0m                                 Traceback (most recent call last)",
      "Cell \u001b[0;32mIn[4], line 2\u001b[0m\n\u001b[1;32m      1\u001b[0m \u001b[38;5;66;03m# Filter the data so that it only contains the survey result from top 10 countries based on the number of total respondents\u001b[39;00m\n\u001b[0;32m----> 2\u001b[0m list_top_countries \u001b[38;5;241m=\u001b[39m \u001b[38;5;28mlist\u001b[39m(\u001b[43mdf_dev_full_time_no_nulls\u001b[49m[\u001b[38;5;124m'\u001b[39m\u001b[38;5;124mCountry\u001b[39m\u001b[38;5;124m'\u001b[39m]\u001b[38;5;241m.\u001b[39mvalue_counts()\u001b[38;5;241m.\u001b[39mhead(\u001b[38;5;241m15\u001b[39m)\u001b[38;5;241m.\u001b[39mindex)\n\u001b[1;32m      7\u001b[0m \u001b[38;5;66;03m# Select only the countries in our previous list\u001b[39;00m\n\u001b[1;32m      8\u001b[0m filtered_developer_data \u001b[38;5;241m=\u001b[39m df_dev_full_time_no_nulls[df_dev_full_time_no_nulls[\u001b[38;5;124m'\u001b[39m\u001b[38;5;124mCountry\u001b[39m\u001b[38;5;124m'\u001b[39m]\u001b[38;5;241m.\u001b[39misin(list_top_countries)]\n",
      "\u001b[0;31mNameError\u001b[0m: name 'df_dev_full_time_no_nulls' is not defined"
     ]
    }
   ],
   "source": [
    "# Filter the data so that it only contains the survey result from top 10 countries based on the number of total respondents\n",
    "list_top_countries = list(df_dev_full_time_no_nulls['Country'].value_counts().head(15).index)\n",
    "\n",
    "\n",
    "\n",
    "\n",
    "# Select only the countries in our previous list\n",
    "filtered_developer_data = df_dev_full_time_no_nulls[df_dev_full_time_no_nulls['Country'].isin(list_top_countries)]\n",
    "\n",
    "filtered_developer_data.head()\n",
    "\n",
    "# Aggregate the data so we can visualize it later\n",
    "#GroupbyCountryCompTotal = filtered_developer_data.groupby(['Country','CompTotal'], as_index=False)['ResponseId'].count()\n",
    "\n",
    "\n",
    "\n",
    "#GroupbyCountryCompTotal.head()\n",
    "\n",
    "# Pivot the data\n",
    "\n",
    "\n",
    "\n",
    "\n",
    "\n",
    "#(status_vals/df.shape[0]).plot(kind=\"bar\");\n",
    "                                                  \n",
    "#plt.title(\"What kind of developer are you?\");\n",
    "# sns.heatmap(df.corr(), annot=True, fmt=\".2f\");\n",
    "                                                  \n",
    "#null=df_dev_full_time.CompTotal.isnull().sum()\n",
    "#print('sum nulls CompTotal before drop ',null)\n",
    "                                                  \n",
    "      \n",
    "#     https://pandas.pydata.org/pandas-docs/stable/style.html\n",
    "\n",
    "\n",
    "        \n",
    "\n",
    "       \n",
    "                                  \n"
   ]
  },
  {
   "cell_type": "code",
   "execution_count": 258,
   "metadata": {},
   "outputs": [
    {
     "data": {
      "image/png": "[encoded data removed]",
      "text/plain": [
       "<Figure size 640x480 with 1 Axes>"
      ]
     },
     "metadata": {},
     "output_type": "display_data"
    }
   ],
   "source": [
    " GroupbyCountryCompTotal = GroupbyCountryCompTotal[['Country', 'CompTotal']]\n",
    "pivoted_data = pd.pivot_table(GroupbyCountryCompTotal, index='Country', columns='CompTotal')\n",
    "\n",
    "\n",
    "\n",
    "#Plot\n",
    "\n",
    "# Visualize the data\n",
    "# Visualize the data\n",
    "#table.plot(kind='bar',stacked=True,colormap=ListedColormap(sns.color_palette(\"ch:2.5,-.2,dark=.3\")),figsize=(13,5))\n",
    "#plt.legend(loc=\"upper left\", bbox_to_anchor=(1,1.02))\n",
    "#plt.ylabel('Earnings Percentages')\n",
    "#plt.title('\\n Earnings  PERCENTAGE BY COUNTRY\\n')\n",
    "#plt.show()\n",
    "\n",
    "                                                         \n",
    "########\n",
    "                                                  \n",
    "values_Countries =filtered_developer_data.Country.value_counts(ascending=True) #Provide a pandas series of the counts for each countries status\n",
    "\n",
    "values_Countries.head()\n",
    "\n",
    "\n",
    "# The below should be a bar chart of the proportion of individuals in your ed_vals\n",
    "# if it is set up correctly.\n",
    "\n",
    "(values_Countries/df.shape[0]).plot(kind=\"bar\");\n",
    "\n",
    "plt.title(\"Countries\");\n",
    "#######                                                \n",
    "                 "
   ]
  },
  {
   "cell_type": "code",
   "execution_count": null,
   "metadata": {
    "collapsed": true,
    "jupyter": {
     "outputs_hidden": true
    }
   },
   "outputs": [],
   "source": []
  },
  {
   "cell_type": "code",
   "execution_count": null,
   "metadata": {
    "collapsed": true,
    "jupyter": {
     "outputs_hidden": true
    }
   },
   "outputs": [],
   "source": []
  }
 ],
 "metadata": {
  "kernelspec": {
   "display_name": "Python 3 (ipykernel)",
   "language": "python",
   "name": "python3"
  },
  "language_info": {
   "codemirror_mode": {
    "name": "ipython",
    "version": 3
   },
   "file_extension": ".py",
   "mimetype": "text/x-python",
   "name": "python",
   "nbconvert_exporter": "python",
   "pygments_lexer": "ipython3",
   "version": "3.11.1"
  },
  "widgets": {
   "application/vnd.jupyter.widget-state+json": {
    "state": {},
    "version_major": 2,
    "version_minor": 0
   }
  }
 },
 "nbformat": 4,
 "nbformat_minor": 4
}
